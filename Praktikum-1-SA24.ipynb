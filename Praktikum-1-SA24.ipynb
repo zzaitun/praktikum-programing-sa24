{
 "cells": [
  {
   "cell_type": "markdown",
   "id": "0b80938d",
   "metadata": {},
   "source": [
    "\n",
    "# 🧮 Praktikum 1 Pengantar Pemrograman – Sains Aktuaria 2024\n",
    "## Topik: If Statement, Match Condition, While Loop, For Loop  \n",
    "\n",
    "### 🎯 Tujuan Pembelajaran\n",
    "Mahasiswa mampu:\n",
    "- Menggunakan percabangan (`if`, `match`) dalam pengambilan keputusan aktuaria.  \n",
    "- Menggunakan perulangan (`while`, `for`) dalam simulasi dan perhitungan aktuaria.  \n",
    "- Menerapkan logika keputusan dan iterasi dalam konteks keuangan dan risiko.\n",
    "\n",
    "---\n",
    "\n",
    "Tugas dikumpul pada [Link Ini](https://forms.gle/xVYYV2XHgvWtQjHk7)\n"
   ]
  },
  {
   "cell_type": "markdown",
   "id": "06c2cc96",
   "metadata": {},
   "source": [
    "## 🧩 Bagian 1 — If Statement"
   ]
  },
  {
   "cell_type": "markdown",
   "id": "95e1542d",
   "metadata": {},
   "source": [
    "### Soal 1 — If Statement\n",
    "Menentukan kategori risiko nasabah berdasarkan usia yakni ada resiko Tinggi, Moderat, dan Resiko Rendah."
   ]
  },
  {
   "cell_type": "code",
   "execution_count": null,
   "id": "054f9277",
   "metadata": {},
   "outputs": [],
   "source": [
    "# Tulis jawaban Anda di bawah ini\n"
   ]
  },
  {
   "cell_type": "markdown",
   "id": "35727830",
   "metadata": {},
   "source": [
    "### Soal 2 — If Statement\n",
    "Menentukan kelayakan klaim asuransi berdasarkan masa aktif dan premi."
   ]
  },
  {
   "cell_type": "code",
   "execution_count": null,
   "id": "206774f2",
   "metadata": {},
   "outputs": [],
   "source": [
    "# Tulis jawaban Anda di bawah ini\n"
   ]
  },
  {
   "cell_type": "markdown",
   "id": "e1dc65bf",
   "metadata": {},
   "source": [
    "### Soal 3 — If Statement\n",
    "Menghitung premi asuransi tahunan dengan diskon berdasarkan tingkat risiko."
   ]
  },
  {
   "cell_type": "code",
   "execution_count": null,
   "id": "7661a1aa",
   "metadata": {},
   "outputs": [],
   "source": [
    "# Tulis jawaban Anda di bawah ini\n"
   ]
  },
  {
   "cell_type": "markdown",
   "id": "52da9c8a",
   "metadata": {},
   "source": [
    "### Soal 4 — If Statement\n",
    "Menentukan status keterlambatan pembayaran premi (tepat waktu, terlambat, gagal bayar)."
   ]
  },
  {
   "cell_type": "code",
   "execution_count": null,
   "id": "ae84ce87",
   "metadata": {},
   "outputs": [],
   "source": [
    "# Tulis jawaban Anda di bawah ini\n"
   ]
  },
  {
   "cell_type": "markdown",
   "id": "2647026a",
   "metadata": {},
   "source": [
    "### Soal 5 — If Statement\n",
    "Menentukan kelompok penghasilan nasabah (rendah, menengah, tinggi)."
   ]
  },
  {
   "cell_type": "code",
   "execution_count": null,
   "id": "88a7ed21",
   "metadata": {},
   "outputs": [],
   "source": [
    "# Tulis jawaban Anda di bawah ini\n"
   ]
  },
  {
   "cell_type": "markdown",
   "id": "cb58e7c3",
   "metadata": {},
   "source": [
    "## 🧮 Bagian 2 — Match Condition"
   ]
  },
  {
   "cell_type": "markdown",
   "id": "a81a2caf",
   "metadata": {},
   "source": [
    "### Soal 6 — Match Condition\n",
    "Menentukan jenis polis berdasarkan kode (1: Jiwa, 2: Kesehatan, 3: Kendaraan)."
   ]
  },
  {
   "cell_type": "code",
   "execution_count": null,
   "id": "e6ea0434",
   "metadata": {},
   "outputs": [],
   "source": [
    "# Tulis jawaban Anda di bawah ini\n"
   ]
  },
  {
   "cell_type": "markdown",
   "id": "f5d16122",
   "metadata": {},
   "source": [
    "### Soal 7 — Match Condition\n",
    "Menentukan kategori risiko kendaraan berdasarkan tahun pembuatan. Dibuat 3 kategori resiko."
   ]
  },
  {
   "cell_type": "code",
   "execution_count": null,
   "id": "bdde732f",
   "metadata": {},
   "outputs": [],
   "source": [
    "# Tulis jawaban Anda di bawah ini\n"
   ]
  },
  {
   "cell_type": "markdown",
   "id": "8fe8703b",
   "metadata": {},
   "source": [
    "### Soal 8 — Match Condition\n",
    "Menentukan jenis produk asuransi berdasarkan pilihan nasabah."
   ]
  },
  {
   "cell_type": "code",
   "execution_count": null,
   "id": "de056de5",
   "metadata": {},
   "outputs": [],
   "source": [
    "# Tulis jawaban Anda di bawah ini\n"
   ]
  },
  {
   "cell_type": "markdown",
   "id": "ed6fa172",
   "metadata": {},
   "source": [
    "### Soal 9 — Match Condition\n",
    "Menentukan metode pembayaran premi (tunai, transfer bank, E-Wallet, autodebit)."
   ]
  },
  {
   "cell_type": "code",
   "execution_count": null,
   "id": "8c02c5ad",
   "metadata": {},
   "outputs": [],
   "source": [
    "# Tulis jawaban Anda di bawah ini\n"
   ]
  },
  {
   "cell_type": "markdown",
   "id": "1e8bb255",
   "metadata": {},
   "source": [
    "### Soal 10 — Match Condition\n",
    "Menentukan status klaim berdasarkan kode klaim (A: diterima, B: ditolak, C: menunggu)."
   ]
  },
  {
   "cell_type": "code",
   "execution_count": null,
   "id": "0214ca48",
   "metadata": {},
   "outputs": [],
   "source": [
    "# Tulis jawaban Anda di bawah ini\n"
   ]
  },
  {
   "cell_type": "markdown",
   "id": "71a35a8a",
   "metadata": {},
   "source": [
    "## 🔁 Bagian 3 — While Loop"
   ]
  },
  {
   "cell_type": "markdown",
   "id": "66297b4e",
   "metadata": {},
   "source": [
    "### Soal 11 — While Loop\n",
    "Simulasi pembayaran premi bulanan hingga total mencapai 1 tahun (12 bulan)."
   ]
  },
  {
   "cell_type": "code",
   "execution_count": null,
   "id": "10ee753d",
   "metadata": {},
   "outputs": [],
   "source": [
    "# Tulis jawaban Anda di bawah ini\n"
   ]
  },
  {
   "cell_type": "markdown",
   "id": "55a11823",
   "metadata": {},
   "source": [
    "### Soal 12 — While Loop\n",
    "Menghitung total bunga tahunan sampai saldo melebihi batas tertentu."
   ]
  },
  {
   "cell_type": "code",
   "execution_count": null,
   "id": "3f6497bf",
   "metadata": {},
   "outputs": [],
   "source": [
    "# Tulis jawaban Anda di bawah ini\n"
   ]
  },
  {
   "cell_type": "markdown",
   "id": "6c4d1f84",
   "metadata": {},
   "source": [
    "### Soal 13 — While Loop\n",
    "Meminta input nilai investasi sampai pengguna memasukkan angka negatif (berhenti)."
   ]
  },
  {
   "cell_type": "code",
   "execution_count": null,
   "id": "abba5e75",
   "metadata": {},
   "outputs": [],
   "source": [
    "# Tulis jawaban Anda di bawah ini\n"
   ]
  },
  {
   "cell_type": "markdown",
   "id": "a040ed01",
   "metadata": {},
   "source": [
    "### Soal 14 — While Loop\n",
    "Menghitung jumlah tahun yang dibutuhkan hingga investasi mencapai target nilai."
   ]
  },
  {
   "cell_type": "code",
   "execution_count": null,
   "id": "4556403f",
   "metadata": {},
   "outputs": [],
   "source": [
    "# Tulis jawaban Anda di bawah ini\n"
   ]
  },
  {
   "cell_type": "markdown",
   "id": "ac399444",
   "metadata": {},
   "source": [
    "## 🔄 Bagian 4 — For Loop"
   ]
  },
  {
   "cell_type": "markdown",
   "id": "3cb9f426",
   "metadata": {},
   "source": [
    "### Soal 15 — For Loop\n",
    "Menampilkan daftar 10 nasabah beserta ID mereka menggunakan perulangan."
   ]
  },
  {
   "cell_type": "code",
   "execution_count": null,
   "id": "2d8cfe16",
   "metadata": {},
   "outputs": [],
   "source": [
    "# Tulis jawaban Anda di bawah ini\n"
   ]
  },
  {
   "cell_type": "markdown",
   "id": "029f3f10",
   "metadata": {},
   "source": [
    "### Soal 16 — For Loop\n",
    "Menampilkan hasil bunga investasi selama 5 tahun dari satu nasabah."
   ]
  },
  {
   "cell_type": "code",
   "execution_count": null,
   "id": "b50f48ec",
   "metadata": {},
   "outputs": [],
   "source": [
    "# Tulis jawaban Anda di bawah ini\n"
   ]
  }
 ],
 "metadata": {
  "language_info": {
   "name": "python"
  }
 },
 "nbformat": 4,
 "nbformat_minor": 5
}
